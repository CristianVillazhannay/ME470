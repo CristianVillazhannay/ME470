{
 "cells": [
  {
   "attachments": {},
   "cell_type": "markdown",
   "metadata": {},
   "source": [
    "### Part A \n",
    "Using a manufactured solution of $u_{MMS}(x,t) = \\sin(\\pi x)(\\exp^t -1)$, the corresponding source term is: \n",
    "\n",
    "$$\n",
    "S(x,t) = \n",
    "\\sin(\\pi x)(e^t) + D\\pi^2\\sin(\\pi x)(e^t -1) - a(u_{\\infty}^4 - (sin(\\pi x)(e^t -1))^4)\n",
    "$$"
   ]
  },
  {
   "attachments": {},
   "cell_type": "markdown",
   "metadata": {},
   "source": [
    "### Part B \n",
    "The fully discretized form of the Crank-Nicolson Scheme is:\n",
    "\n",
    "$$\n",
    "\\left(\n",
    "  1 + \n",
    "  \\frac{D \\Delta t}{\\Delta x^2} + 2a\\Delta t(u_{i}^{n+1})^3\n",
    "\\right) \\delta u_i^k\n",
    "- \\frac{D \\Delta t}{2 \\Delta x^2}(\\delta u_{i-1}^k + \\delta u_{i+1}^k)\n",
    "$$\n",
    "$$\n",
    "=\n",
    "$$\n",
    "$$\n",
    "-u_{i}^{n+1,k} + u_{i}^{n,k} + \\frac{D \\Delta t}{2 \\Delta x^2} \n",
    "  \\left(\n",
    "    (u_{i-1}^{n,k} - 2 u_{i}^{n,k} + u_{i+1}^{n,k}) +\n",
    "    (u_{i-1}^{n+1,k} - 2 u_{i}^{n+1,k} + u_{i+1}^{n+1,k})\n",
    "  \\right)\n",
    "+ a \\Delta t\n",
    "  \\left(\n",
    "    u_{\\infty}^4\n",
    "    - \\frac{1}{2}  \\left(   (u_{i}^{n,k})^4 + (u_{i}^{n+1,k})^4 \\right)\n",
    "  \\right)\n",
    "+ \\frac{1}{2} \\Delta t \n",
    "  \\left(\n",
    "    S(x_i, t^n) + S(x_i,t^{n+1})\n",
    "  \\right)\n",
    "$$\n"
   ]
  },
  {
   "attachments": {},
   "cell_type": "markdown",
   "metadata": {},
   "source": [
    "### Part C\n",
    "The following convergence plots show that the Crank-Nicolson Scheme is 2nd order accurate in both time and space ($\\Delta x, \\Delta t$)"
   ]
  },
  {
   "attachments": {},
   "cell_type": "markdown",
   "metadata": {},
   "source": [
    "![alternative text](crank-nicolson.png)"
   ]
  },
  {
   "attachments": {},
   "cell_type": "markdown",
   "metadata": {},
   "source": [
    "![alternative text](crank-nicolson-dx.png)"
   ]
  },
  {
   "attachments": {},
   "cell_type": "markdown",
   "metadata": {},
   "source": [
    "![](attachment:crank-nicolson.png)"
   ]
  },
  {
   "attachments": {},
   "cell_type": "markdown",
   "metadata": {},
   "source": [
    "### Part D \n",
    "The discretized forms solved for each step of the Strang Splitting scheme are: \n",
    "\n",
    "The first half-step where we solve $\\dot{u} = A u$ over timespan $ [t^n, t^{n+0.5}]$ with an inital value of $ u(t^n) = U(t^n)$.\n",
    "$$\n",
    "\\left( \n",
    "    1 + \\frac{D \\Delta t}{2 \\Delta x^2}\n",
    "\\right)\\delta u_i^k\n",
    "- \\frac{D \\Delta t}{4 \\Delta x^2}(\\delta u_{i-1}^k + \\delta u_{i+1}^k)\n",
    "$$\n",
    "$$=$$\n",
    "$$\n",
    "-u_{i}^{n+0.5,k} + u_{i}^{n,k} + \\frac{D \\Delta t}{4 \\Delta x^2} \n",
    "  \\left(\n",
    "    (u_{i-1}^{n,k} - 2 u_{i}^{n,k} + u_{i+1}^{n,k}) +\n",
    "    (u_{i-1}^{n+0.5,k} - 2 u_{i}^{n+0.5,k} + u_{i+1}^{n+0.5,k})\n",
    "  \\right)\n",
    "$$\n",
    "\n",
    "The second full step where we solve $\\dot{v} = B v$ over timespan $ [t^n, t^{n+1}]$ with an inital value of $ v(t^n) = u(t^{n+0.5})$.\n",
    "$$\n",
    "\\left(\n",
    "  1 \n",
    "  + 2a\\Delta t(v_{i}^{n+1})^3\n",
    "\\right) \\delta v_i^k\n",
    "$$\n",
    "$$=$$\n",
    "$$\n",
    "-v_{i}^{n+1,k} + v_{i}^{n,k} + a \\Delta t\n",
    "  \\left(\n",
    "    u_{\\infty}^4\n",
    "    - \\frac{1}{2}  \\left(   (v_{i}^{n,k})^4 + (v_{i}^{n+1,k})^4 \\right)\n",
    "  \\right)\n",
    "+ \\frac{1}{2} \\Delta t \n",
    "  \\left(\n",
    "    S(x_i, t^n) + S(x_i,t^{n+1})\n",
    "  \\right) \n",
    "$$\n",
    "\n",
    "The third half step where we solve $\\dot{w} = A w$ over timespan $ [t^{n+0.5}, t^{n+1}]$ with an inital value of $ w(t^{n+0.5}) = v(t^{n+1})$.\n",
    "$$\n",
    "\\left( \n",
    "    1 + \\frac{D \\Delta t}{2 \\Delta x^2}\n",
    "\\right)\\delta w_i^k\n",
    "- \\frac{D \\Delta t}{4 \\Delta x^2}(\\delta w_{i-1}^k + \\delta w_{i+1}^k)\n",
    "$$\n",
    "$$=$$\n",
    "$$\n",
    "-w_{i}^{n+0.5,k} + w_{i}^{n,k} + \\frac{D \\Delta t}{4 \\Delta x^2} \n",
    "  \\left(\n",
    "    (w_{i-1}^{n,k} - 2 w_{i}^{n,k} + w_{i+1}^{n,k}) +\n",
    "    (w_{i-1}^{n+0.5,k} - 2 w_{i}^{n+0.5,k} + w_{i+1}^{n+0.5,k})\n",
    "  \\right)\n",
    "$$"
   ]
  },
  {
   "attachments": {},
   "cell_type": "markdown",
   "metadata": {},
   "source": [
    "### Part E\n",
    "The following convergence plots show that the Strang Splitting Scheme is 2nd order accurate in both time and space ($\\Delta x, \\Delta t$)"
   ]
  },
  {
   "attachments": {},
   "cell_type": "markdown",
   "metadata": {},
   "source": [
    "![alternative text](strang-splitting.png)"
   ]
  },
  {
   "attachments": {},
   "cell_type": "markdown",
   "metadata": {},
   "source": [
    "![alternative text](strang-splitting-dx.png)"
   ]
  },
  {
   "attachments": {},
   "cell_type": "markdown",
   "metadata": {},
   "source": [
    "### Part F\n",
    "When the source term is zero, the final value is 4.4657 at $(x = 0.5, t_{final})$."
   ]
  },
  {
   "attachments": {},
   "cell_type": "markdown",
   "metadata": {},
   "source": [
    "![alternative text](zeroSource.png)"
   ]
  }
 ],
 "metadata": {
  "kernelspec": {
   "display_name": "IRS_Virtual",
   "language": "python",
   "name": "irs_virtual"
  },
  "language_info": {
   "name": "python",
   "version": "3.10.4"
  },
  "orig_nbformat": 4
 },
 "nbformat": 4,
 "nbformat_minor": 2
}
