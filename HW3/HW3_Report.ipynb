{
 "cells": [
  {
   "attachments": {},
   "cell_type": "markdown",
   "metadata": {},
   "source": [
    "Cristian Villazhannay  \n",
    "ME 470  \n",
    "May 21, 2023  "
   ]
  },
  {
   "attachments": {},
   "cell_type": "markdown",
   "metadata": {},
   "source": [
    "Implement a Backward Euler scheme to integrate in time, up to a final time of t = 0.5 for the 3D Heat Equation, using a Krylov Solver in PETSc to handle the parallel matrix solution.\n",
    "\n",
    "$$\n",
    "\\frac{T^{n+1} - T^{n}}{\\Delta t} = D\\nabla^{2}T^{n+1}\n",
    "$$\n",
    "\n",
    "Please note that the linear matrix equation at every time step takes the form: \n",
    "\n",
    "$$\n",
    "J(T^{n+1, k}) \\delta T^{k} = -F(T^{n+1,k})\n",
    "$$"
   ]
  },
  {
   "attachments": {},
   "cell_type": "markdown",
   "metadata": {},
   "source": [
    "### Part A \n",
    "For a given node, the discretized equation is: \n",
    "$$\n",
    "\\left(\n",
    "1 + 2 \\frac{D \\Delta t}{\\Delta x^2} + 2 \\frac{D \\Delta t}{\\Delta y^2} + 2 \\frac{D \\Delta t}{\\Delta z^2}\n",
    "\\right)\n",
    "\\delta^{k}_{i, j, k}\n",
    "\n",
    "- \\frac{D \\Delta t}{\\Delta x^2} \\left( \\delta^{k}_{i + 1,j    ,k    } + \\delta^{k}_{i - 1,j    ,k    } \\right)\n",
    "- \\frac{D \\Delta t}{\\Delta y^2} \\left( \\delta^{k}_{i    ,j + 1,k    } + \\delta^{k}_{i    ,j - 1,k    } \\right)\n",
    "- \\frac{D \\Delta t}{\\Delta z^2} \\left( \\delta^{k}_{i    ,j    ,k + 1} + \\delta^{k}_{i    ,j    ,k - 1} \\right)\n",
    "= -F(u^{n+1}_{i, j, k})\n",
    "$$\n",
    "\n",
    "$$\n",
    "\\text{where }\n",
    "$$\n",
    "\n",
    "$$\n",
    "-F(u^{n+1}_{i, j, k}) =\n",
    "-u^{n+1,k}_{i,j,k} + u^{n,k}_{i,j,k}\n",
    "+ \\frac{D \\Delta t}{\\Delta x^2} \\left( u_{i + 1, j    , k    }^{n+1} - 2 u_{i  , j  , k  }^{n+1} + u_{i - 1, j    , k    }^{n+1} \\right) \n",
    "+ \\frac{D \\Delta t}{\\Delta y^2} \\left( u_{i    , j + 1, k    }^{n+1} - 2 u_{i  , j  , k  }^{n+1} + u_{i    , j - 1, k    }^{n+1} \\right)\n",
    "+ \\frac{D \\Delta t}{\\Delta z^2} \\left( u_{i    , j    , k + 1}^{n+1} - 2 u_{i  , j  , k  }^{n+1} + u_{i    , j    , k - 1}^{n+1} \\right)\n",
    "$$\n",
    "\n"
   ]
  },
  {
   "attachments": {},
   "cell_type": "markdown",
   "metadata": {},
   "source": [
    "### Part B \n",
    "The modified version of this equation so that the RHS resembles $J \\cdot T^{n+1, k}$ and other terms is: \n",
    "\n",
    "$$\n",
    "\\left(\n",
    "1 + 2 \\frac{D \\Delta t}{\\Delta x^2} + 2 \\frac{D \\Delta t}{\\Delta y^2} + 2 \\frac{D \\Delta t}{\\Delta z^2}\n",
    "\\right)\n",
    "\\delta^{k}_{i, j, k}\n",
    "\n",
    "- 2 \\frac{D \\Delta t}{\\Delta x^2} \\left( \\delta^{k}_{i + 1,j    ,k    } + \\delta^{k}_{i - 1,j    ,k    } \\right)\n",
    "- 2 \\frac{D \\Delta t}{\\Delta y^2} \\left( \\delta^{k}_{i    ,j + 1,k    } + \\delta^{k}_{i    ,j - 1,k    } \\right)\n",
    "- 2 \\frac{D \\Delta t}{\\Delta z^2} \\left( \\delta^{k}_{i    ,j    ,k + 1} + \\delta^{k}_{i    ,j    ,k - 1} \\right)\n",
    "= -F(u^{n+1}_{i, j, k})\n",
    "$$\n",
    "\n",
    "$$\n",
    "\\text{where }\n",
    "$$\n",
    "\n",
    "$$\n",
    "-F(u^{n+1}_{i, j, k}) =\n",
    "u^{n,k}_{i,j,k} \n",
    "+ u^{n+1,k}_{i,j,k} \\left(-1 - 2\\frac{D \\Delta t}{\\Delta x^2} - 2\\frac{D \\Delta t}{\\Delta y^2} - 2 \\frac{D \\Delta t}{\\Delta z^2} \\right)\n",
    "+ \\frac{D \\Delta t}{\\Delta x^2} \\left( u_{i + 1, j    , k    }^{n+1} + u_{i - 1, j    , k    }^{n+1} \\right) \n",
    "+ \\frac{D \\Delta t}{\\Delta y^2} \\left( u_{i    , j + 1, k    }^{n+1} + u_{i    , j - 1, k    }^{n+1} \\right)\n",
    "+ \\frac{D \\Delta t}{\\Delta z^2} \\left( u_{i    , j    , k + 1}^{n+1} + u_{i    , j    , k - 1}^{n+1} \\right)\n",
    "$$\n"
   ]
  },
  {
   "attachments": {},
   "cell_type": "markdown",
   "metadata": {},
   "source": [
    "### Part C \n",
    "The final output of the case where $\\Delta x=\\Delta y =\\Delta z = 0.01 \\text{ and } \\Delta t = 0.01$ is\n",
    "\n",
    "`Hello`"
   ]
  },
  {
   "attachments": {},
   "cell_type": "markdown",
   "metadata": {},
   "source": [
    "### Part D \n",
    "Using the same grid size and timestep sizes as Part C, the value of T(0.5,0.5,0.5) is plotted as a function of time."
   ]
  },
  {
   "attachments": {},
   "cell_type": "markdown",
   "metadata": {},
   "source": []
  }
 ],
 "metadata": {
  "language_info": {
   "name": "python"
  },
  "orig_nbformat": 4
 },
 "nbformat": 4,
 "nbformat_minor": 2
}
